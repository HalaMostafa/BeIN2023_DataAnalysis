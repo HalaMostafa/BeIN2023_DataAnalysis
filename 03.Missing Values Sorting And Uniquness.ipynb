{
 "cells": [
  {
   "cell_type": "markdown",
   "metadata": {},
   "source": [
    "# Methods for handling missing values\n",
    "**pandas provides the following methods to handle missing values:**\n",
    "\n",
    "- `isna`: Returns a Series of booleans based on whether each value is missing or not.\n",
    "- `notna`: Exact opposite of isna.\n",
    "- `fillna`: Fills missing values in a variety of ways\n",
    "- `dropna`: Drops the missing values from the Series"
   ]
  },
  {
   "cell_type": "markdown",
   "metadata": {},
   "source": [
    "**let us use `movie` data set folr the following examples:**"
   ]
  },
  {
   "cell_type": "code",
   "execution_count": 1,
   "metadata": {},
   "outputs": [],
   "source": [
    "# use isna and notna to filter data"
   ]
  },
  {
   "cell_type": "code",
   "execution_count": 2,
   "metadata": {},
   "outputs": [],
   "source": [
    "# use isna to count the number of missing values"
   ]
  },
  {
   "cell_type": "code",
   "execution_count": 3,
   "metadata": {},
   "outputs": [],
   "source": [
    "# use fillna to fill missing values."
   ]
  },
  {
   "cell_type": "code",
   "execution_count": 4,
   "metadata": {},
   "outputs": [],
   "source": [
    "#use dropna to drop missing values."
   ]
  },
  {
   "cell_type": "markdown",
   "metadata": {},
   "source": [
    "# Sorting:\n",
    "\n",
    "The `sort_values` method sorts the Series `from least to greatest by default`. \n",
    "\n",
    "It places `missing values at the end`."
   ]
  },
  {
   "cell_type": "code",
   "execution_count": null,
   "metadata": {},
   "outputs": [],
   "source": []
  },
  {
   "cell_type": "markdown",
   "metadata": {},
   "source": [
    "## Exercises\n",
    "\n",
    "### Exercise 1\n",
    "<span  style=\"color:green; font-size:16px\">What percentage of actor 1 Facebook likes are missing?</span>\n",
    "\n",
    "\n",
    "### Exercise 2\n",
    "<span  style=\"color:green; font-size:16px\">Use the notna method to find the number of non-missing values in the actor 1 Facebook like column. Verify this\n",
    "number is the same as the count method.\n",
    "\n",
    "### Exercise 3\n",
    "<span  style=\"color:green; font-size:16px\">Use one line of code to fill the missing values of actor1_fb with the maximum of actor2_fb. Save this result to\n",
    "variable actor1_fb_full</span>\n",
    "\n",
    "### Exercise 4\n",
    "<span  style=\"color:green; font-size:16px\">Verify the results of problem 3 by selecting just the values of actor1_fb_full that were filled by actor2_fb.</span>\n"
   ]
  },
  {
   "cell_type": "markdown",
   "metadata": {},
   "source": [
    "# Uniqueness\n",
    "\n",
    "**There are a few methods that deal with unique values in a Series:**\n",
    "\n",
    "- `unique`: Returns a numpy array of all the unique values in order of their appearance\n",
    "- `nunique`: Returns the number of unique values in the Series\n",
    "- `drop_duplicates`: Returns a pandas Series of just the unique values"
   ]
  },
  {
   "cell_type": "code",
   "execution_count": null,
   "metadata": {},
   "outputs": [],
   "source": []
  },
  {
   "cell_type": "code",
   "execution_count": null,
   "metadata": {},
   "outputs": [],
   "source": [
    "# count the number of unique values "
   ]
  },
  {
   "cell_type": "markdown",
   "metadata": {},
   "source": []
  }
 ],
 "metadata": {
  "kernelspec": {
   "display_name": "Python 3",
   "language": "python",
   "name": "python3"
  },
  "language_info": {
   "codemirror_mode": {
    "name": "ipython",
    "version": 3
   },
   "file_extension": ".py",
   "mimetype": "text/x-python",
   "name": "python",
   "nbconvert_exporter": "python",
   "pygments_lexer": "ipython3",
   "version": "3.9.2"
  }
 },
 "nbformat": 4,
 "nbformat_minor": 2
}
