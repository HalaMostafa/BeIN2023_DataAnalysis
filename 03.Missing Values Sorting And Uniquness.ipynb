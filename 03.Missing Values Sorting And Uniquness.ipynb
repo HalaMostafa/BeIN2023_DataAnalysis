{
 "cells": [
  {
   "cell_type": "markdown",
   "metadata": {},
   "source": [
    "# Methods for handling missing values\n",
    "**pandas provides the following methods to handle missing values:**\n",
    "\n",
    "- `isna`: Returns a Series of booleans based on whether each value is missing or not.\n",
    "- `notna`: Exact opposite of isna.\n",
    "- `fillna`: Fills missing values in a variety of ways\n",
    "- `dropna`: Drops the missing values from the Series"
   ]
  },
  {
   "cell_type": "code",
   "execution_count": 1,
   "metadata": {},
   "outputs": [],
   "source": [
    "import pandas as pd"
   ]
  },
  {
   "cell_type": "code",
   "execution_count": 2,
   "metadata": {},
   "outputs": [],
   "source": [
    "movie = pd.read_csv(\"data/movie.csv\")"
   ]
  },
  {
   "cell_type": "code",
   "execution_count": 4,
   "metadata": {},
   "outputs": [
    {
     "name": "stdout",
     "output_type": "stream",
     "text": [
      "<class 'pandas.core.frame.DataFrame'>\n",
      "RangeIndex: 4916 entries, 0 to 4915\n",
      "Data columns (total 22 columns):\n",
      " #   Column           Non-Null Count  Dtype  \n",
      "---  ------           --------------  -----  \n",
      " 0   title            4916 non-null   object \n",
      " 1   year             4810 non-null   float64\n",
      " 2   color            4897 non-null   object \n",
      " 3   content_rating   4616 non-null   object \n",
      " 4   duration         4901 non-null   float64\n",
      " 5   director_name    4814 non-null   object \n",
      " 6   director_fb      4814 non-null   float64\n",
      " 7   actor1           4909 non-null   object \n",
      " 8   actor1_fb        4909 non-null   float64\n",
      " 9   actor2           4903 non-null   object \n",
      " 10  actor2_fb        4903 non-null   float64\n",
      " 11  actor3           4893 non-null   object \n",
      " 12  actor3_fb        4893 non-null   float64\n",
      " 13  gross            4054 non-null   float64\n",
      " 14  genres           4916 non-null   object \n",
      " 15  num_reviews      4867 non-null   float64\n",
      " 16  num_voted_users  4916 non-null   int64  \n",
      " 17  plot_keywords    4764 non-null   object \n",
      " 18  language         4904 non-null   object \n",
      " 19  country          4911 non-null   object \n",
      " 20  budget           4432 non-null   float64\n",
      " 21  imdb_score       4916 non-null   float64\n",
      "dtypes: float64(10), int64(1), object(11)\n",
      "memory usage: 845.1+ KB\n"
     ]
    }
   ],
   "source": [
    "movie.info()"
   ]
  },
  {
   "cell_type": "code",
   "execution_count": 6,
   "metadata": {},
   "outputs": [
    {
     "data": {
      "text/plain": [
       "106"
      ]
     },
     "execution_count": 6,
     "metadata": {},
     "output_type": "execute_result"
    }
   ],
   "source": [
    "#number of missing values in year column\n",
    "movie[\"year\"].isna().sum()"
   ]
  },
  {
   "cell_type": "code",
   "execution_count": 9,
   "metadata": {},
   "outputs": [],
   "source": [
    "#get all rows in which the year column is missing\n",
    "filter_1 = movie[\"year\"].isna()\n",
    "missing_year = movie[filter_1]\n"
   ]
  },
  {
   "cell_type": "code",
   "execution_count": 10,
   "metadata": {},
   "outputs": [
    {
     "data": {
      "text/plain": [
       "0"
      ]
     },
     "execution_count": 10,
     "metadata": {},
     "output_type": "execute_result"
    }
   ],
   "source": [
    "missing_year[\"year\"].count()"
   ]
  },
  {
   "cell_type": "code",
   "execution_count": 11,
   "metadata": {},
   "outputs": [
    {
     "data": {
      "text/plain": [
       "4      NaN\n",
       "176    NaN\n",
       "257    NaN\n",
       "276    NaN\n",
       "398    NaN\n",
       "        ..\n",
       "4683   NaN\n",
       "4688   NaN\n",
       "4704   NaN\n",
       "4752   NaN\n",
       "4912   NaN\n",
       "Name: year, Length: 106, dtype: float64"
      ]
     },
     "execution_count": 11,
     "metadata": {},
     "output_type": "execute_result"
    }
   ],
   "source": [
    "missing_year[\"year\"]"
   ]
  },
  {
   "cell_type": "code",
   "execution_count": null,
   "metadata": {},
   "outputs": [],
   "source": []
  },
  {
   "cell_type": "markdown",
   "metadata": {},
   "source": [
    "**let us use `movie` data set folr the following examples:**"
   ]
  },
  {
   "cell_type": "code",
   "execution_count": 1,
   "metadata": {},
   "outputs": [],
   "source": [
    "# use isna and notna to filter data"
   ]
  },
  {
   "cell_type": "code",
   "execution_count": 2,
   "metadata": {},
   "outputs": [],
   "source": [
    "# use isna to count the number of missing values"
   ]
  },
  {
   "cell_type": "code",
   "execution_count": 3,
   "metadata": {},
   "outputs": [],
   "source": [
    "# use fillna to fill missing values."
   ]
  },
  {
   "cell_type": "code",
   "execution_count": 4,
   "metadata": {},
   "outputs": [],
   "source": [
    "#use dropna to drop missing values."
   ]
  },
  {
   "cell_type": "markdown",
   "metadata": {},
   "source": [
    "# Sorting:\n",
    "\n",
    "The `sort_values` method sorts the Series `from least to greatest by default`. \n",
    "\n",
    "It places `missing values at the end`."
   ]
  },
  {
   "cell_type": "code",
   "execution_count": null,
   "metadata": {},
   "outputs": [],
   "source": []
  },
  {
   "cell_type": "markdown",
   "metadata": {},
   "source": [
    "## Exercises\n",
    "\n",
    "### Exercise 1\n",
    "<span  style=\"color:green; font-size:16px\">What percentage of actor 1 Facebook likes are missing?</span>\n",
    "\n",
    "\n",
    "### Exercise 2\n",
    "<span  style=\"color:green; font-size:16px\">Use the notna method to find the number of non-missing values in the actor 1 Facebook like column. Verify this\n",
    "number is the same as the count method.\n",
    "\n",
    "### Exercise 3\n",
    "<span  style=\"color:green; font-size:16px\">Use one line of code to fill the missing values of actor1_fb with the maximum of actor2_fb. Save this result to\n",
    "variable actor1_fb_full</span>\n",
    "\n",
    "### Exercise 4\n",
    "<span  style=\"color:green; font-size:16px\">Verify the results of problem 3 by selecting just the values of actor1_fb_full that were filled by actor2_fb.</span>\n"
   ]
  },
  {
   "cell_type": "markdown",
   "metadata": {},
   "source": [
    "# Uniqueness\n",
    "\n",
    "**There are a few methods that deal with unique values in a Series:**\n",
    "\n",
    "- `unique`: Returns a numpy array of all the unique values in order of their appearance\n",
    "- `nunique`: Returns the number of unique values in the Series\n",
    "- `drop_duplicates`: Returns a pandas Series of just the unique values"
   ]
  },
  {
   "cell_type": "code",
   "execution_count": null,
   "metadata": {},
   "outputs": [],
   "source": []
  },
  {
   "cell_type": "code",
   "execution_count": null,
   "metadata": {},
   "outputs": [],
   "source": [
    "# count the number of unique values "
   ]
  },
  {
   "cell_type": "markdown",
   "metadata": {},
   "source": []
  }
 ],
 "metadata": {
  "kernelspec": {
   "display_name": "Python 3",
   "language": "python",
   "name": "python3"
  },
  "language_info": {
   "codemirror_mode": {
    "name": "ipython",
    "version": 3
   },
   "file_extension": ".py",
   "mimetype": "text/x-python",
   "name": "python",
   "nbconvert_exporter": "python",
   "pygments_lexer": "ipython3",
   "version": "3.9.2"
  }
 },
 "nbformat": 4,
 "nbformat_minor": 2
}
