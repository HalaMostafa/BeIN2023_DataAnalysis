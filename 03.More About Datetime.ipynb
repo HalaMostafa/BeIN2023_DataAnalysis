{
 "cells": [
  {
   "cell_type": "markdown",
   "metadata": {},
   "source": [
    "# The dt accessor:\n",
    "\n",
    "There are many attributes that return a particular part of the datetime such as `year`, `month`, `day`, `hour`, `minute`, `second`,\n",
    "etc. . . Notice that the data type for all of these new Series is integer."
   ]
  },
  {
   "cell_type": "code",
   "execution_count": 1,
   "metadata": {},
   "outputs": [],
   "source": [
    "# get the year , month and day from datetime column"
   ]
  },
  {
   "cell_type": "markdown",
   "metadata": {},
   "source": [
    "# Datetime methods:\n",
    "\n",
    "There are only a few methods that are available to the dt accessor with the most useful being `ceil`, `round`, `floor`,\n",
    "`strftime`, and `to_period`. To use these methods you will need to be familiar with the offset aliases, which are short\n",
    "strings, usually one character, that represent a unit of time. \n",
    "\n",
    "**Below are a few of the offset aliases.**\n",
    "\n",
    "• `D` - day\n",
    "\n",
    "• `H` - hour\n",
    "\n",
    "• `T` or min - minute\n",
    "\n",
    "• `S` - second"
   ]
  },
  {
   "cell_type": "markdown",
   "metadata": {},
   "source": []
  },
  {
   "cell_type": "code",
   "execution_count": null,
   "metadata": {},
   "outputs": [],
   "source": []
  },
  {
   "cell_type": "markdown",
   "metadata": {},
   "source": [
    "# Timedeltas\n",
    "Timedeltas are a separate data type that represent an amount of time such as 5 minutes and 34 seconds. The highest\n",
    "unit of a timedelta is days and they always have nanosecond precision."
   ]
  },
  {
   "cell_type": "markdown",
   "metadata": {},
   "source": []
  }
 ],
 "metadata": {
  "kernelspec": {
   "display_name": "Python 3",
   "language": "python",
   "name": "python3"
  },
  "language_info": {
   "codemirror_mode": {
    "name": "ipython",
    "version": 3
   },
   "file_extension": ".py",
   "mimetype": "text/x-python",
   "name": "python",
   "nbconvert_exporter": "python",
   "pygments_lexer": "ipython3",
   "version": "3.9.2"
  }
 },
 "nbformat": 4,
 "nbformat_minor": 2
}
